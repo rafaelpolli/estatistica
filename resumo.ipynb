{
 "cells": [
  {
   "cell_type": "markdown",
   "metadata": {},
   "source": [
    "# Estatística Básica"
   ]
  },
  {
   "cell_type": "markdown",
   "metadata": {},
   "source": [
    "# Variáveis\n",
    "## Qualitativas:\n",
    "* Nominais\n",
    "* Ordinais\n",
    "## Quantitativas:\n",
    "* Discretas\n",
    "* Contínuas\n"
   ]
  },
  {
   "cell_type": "markdown",
   "metadata": {},
   "source": [
    "# Estrutura de Dados\n",
    "## Tipos de Estudos\n",
    "### Estudos Observacionais\n",
    "A população sob estudo é amostrada sem que haja intervenção, nenhum fator está sendo controlado. \n",
    "Ex: Estudos epidemiológicos\n",
    "* Prospectivo\n",
    "* Retrospectivo (Caso-Controle)\n",
    "* Transversal\n",
    "  \n",
    "Em geral, os dados desses estudos podem ser dispostos em **Tabelas de Contingência** para análises de associação (testes Qui-Quadrado, modelos de regressão logística)\n",
    "### Estudos Experimentais\n",
    "Estudos de intervenção: há fatores sendo controlados (causas, var. independentes) para se obter os efeitos (var. dependentes)\n",
    "Ex: Ensaios Clínicos Controlados e Aleatorizados (padrão ouro em estudos de causalidade)\n",
    "* Ensaios Clínicos Controlados e Aleatorizados\n",
    "* Ensaios de Campo\n",
    "* Ensaios de Bancada\n",
    "\n",
    "Em geral, esses dados são analisados por meio de modelos de **Análise de Variância (ANOVA) ou Regressão**.\n"
   ]
  },
  {
   "cell_type": "code",
   "execution_count": null,
   "metadata": {},
   "outputs": [],
   "source": []
  }
 ],
 "metadata": {
  "kernelspec": {
   "display_name": "Python 3",
   "language": "python",
   "name": "python3"
  },
  "language_info": {
   "codemirror_mode": {
    "name": "ipython",
    "version": 3
   },
   "file_extension": ".py",
   "mimetype": "text/x-python",
   "name": "python",
   "nbconvert_exporter": "python",
   "pygments_lexer": "ipython3",
   "version": "3.11.5"
  },
  "orig_nbformat": 4
 },
 "nbformat": 4,
 "nbformat_minor": 2
}
