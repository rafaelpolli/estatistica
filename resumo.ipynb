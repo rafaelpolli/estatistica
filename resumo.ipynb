{
 "cells": [
  {
   "cell_type": "markdown",
   "metadata": {},
   "source": [
    "# Estatística Básica"
   ]
  },
  {
   "cell_type": "markdown",
   "metadata": {},
   "source": [
    "# Variáveis\n",
    "## Qualitativas:\n",
    "* Nominais\n",
    "* Ordinais\n",
    "## Quantitativas:\n",
    "* Discretas\n",
    "* Contínuas\n"
   ]
  },
  {
   "cell_type": "markdown",
   "metadata": {},
   "source": [
    "# Estrutura de Dados\n",
    "## Tipos de Estudos\n",
    "### Estudos Observacionais\n",
    "A população sob estudo é amostrada sem que haja intervenção, nenhum fator está sendo controlado. \n",
    "Ex: Estudos epidemiológicos\n",
    "* Prospectivo\n",
    "* Retrospectivo (Caso-Controle)\n",
    "* Transversal\n",
    "  \n",
    "Em geral, os dados desses estudos podem ser dispostos em **Tabelas de Contingência** para análises de associação (testes Qui-Quadrado, modelos de regressão logística)\n",
    "\n",
    "![exemplos estudos observacionais](https://raw.githubusercontent.com/rafaelpolli/estatistica/main/img/img1.png)\n"
   ]
  },
  {
   "cell_type": "markdown",
   "metadata": {},
   "source": [
    "### Estudos Experimentais\n",
    "Estudos de intervenção: há fatores sendo controlados (causas, var. independentes) para se obter os efeitos (var. dependentes)\n",
    "Ex: Ensaios Clínicos Controlados e Aleatorizados (padrão ouro em estudos de causalidade)\n",
    "* Ensaios Clínicos Controlados e Aleatorizados\n",
    "* Ensaios de Campo\n",
    "* Ensaios de Bancada\n",
    "\n",
    "Em geral, esses dados são analisados por meio de modelos de **Análise de Variância (ANOVA) ou Regressão**.\n",
    "\n",
    "![exemplos estudos experimentais](https://raw.githubusercontent.com/rafaelpolli/estatistica/main/img/img2.png)"
   ]
  },
  {
   "cell_type": "markdown",
   "metadata": {},
   "source": [
    "## Planejamento de experimentos\n",
    "### Por que PLANEJAR?\n",
    "* Controlar e Evidenciar o efeito de Fontes de Variação (FV) conhecidas\n",
    "* Reduzir o efeito de FV Desconhecidas\n",
    "\n",
    "$$Y = FV + e$$\n",
    "\n",
    "Princípio do Planejamento: Planejar para ser capaz de mensurar a “importância” (significância estatística) de possíveis fontes de variação conhecidas (de significância factual) e reduzir a influência de fontes de variação desconhecidas (desvio ou erro aleatório) que atuam sobre a resposta de interesse (Y).\n",
    "\n",
    "* População Alvo do estudo e Plano amostral\n",
    "  * População de Interesse (N)\n",
    "  * Amostra (n): unidades amostrais independentes ou correlacionadas\n",
    "* Estruturas do Experimento\n",
    "  * Tratamentos: Fatores de interesse\n",
    "  * Unidades Experimentais: Aleatorização\n",
    "  * Blocos e Covariáveis: variáveis de controle\n",
    "* Variável resposta de interesse\n",
    "  * Tipo de variável (unidade de medida, escala)\n",
    "  * Réplicas (genuínas), replicatas\n",
    "  * Tamanho amostral efetivo"
   ]
  },
  {
   "cell_type": "markdown",
   "metadata": {},
   "source": [
    "### Modelo Estatístico\n",
    "$$Y = f(X) + e$$\n",
    "* Y: variável resposta (dependente, aleatória)\n",
    "* X: variáveis preditoras ou fatores de interesse (independente, em geral fixa)\n",
    "* f: função associando X a Y, em geral, linear e assumida conhecida, mas pode ser não linear ou desconhecida (spline)\n",
    "* e: variável aletória (em geral, envolve somente o termo de erro, mas pode ser decomposta em efeitos aleatórios de interesse no estudo + erro)"
   ]
  },
  {
   "cell_type": "markdown",
   "metadata": {},
   "source": [
    "**Modelos ANOVA:** Y é variável resposta quantitativa univariada e X variável independente qualitativa (define o efeito de tratamentos, pode incluir covariáveis).\n",
    "\n",
    "**Modelos de Regressão Linear:** Y é variável resposta quantitativa univariada e X variável independente quantitativa. MAS, nos modelos gerais, as variáveis preditoras X podem ser tanto quantitativas como categóricas.\n",
    "\n",
    "**Modelos de Regressão Linear Generalizado:** no caso de regressão logística, Y é variável resposta binária. MAS, no caso geral, Y pode ser definida para outras escalas (multinomial, Poisson, etc.). As variáveis preditoras poder ser definidas como quantitativas, bem como categóricas."
   ]
  },
  {
   "cell_type": "markdown",
   "metadata": {},
   "source": [
    "### Princípios do Planejamento de Experimentos\n",
    "**A priori (antes da coleta de dados) usar Aleatorização e Cegamento:** técnicas que evitam erros sistemáticos e servem para “balancear” o efeito do erro entre os grupos de tratamentos (gerar grupos comparáveis, com características semelhantes)\n",
    "\n",
    "**A posteriori (depois da coleta de dados):** é possível eliminar o efeito de fontes desconhecidas, por exemplo, ajustando modelos específicos e usando os resíduos como as respostas filtradas, corrigidas (normalizadas)."
   ]
  },
  {
   "cell_type": "markdown",
   "metadata": {},
   "source": []
  }
 ],
 "metadata": {
  "kernelspec": {
   "display_name": "Python 3",
   "language": "python",
   "name": "python3"
  },
  "language_info": {
   "codemirror_mode": {
    "name": "ipython",
    "version": 3
   },
   "file_extension": ".py",
   "mimetype": "text/x-python",
   "name": "python",
   "nbconvert_exporter": "python",
   "pygments_lexer": "ipython3",
   "version": "3.11.5"
  },
  "orig_nbformat": 4
 },
 "nbformat": 4,
 "nbformat_minor": 2
}
